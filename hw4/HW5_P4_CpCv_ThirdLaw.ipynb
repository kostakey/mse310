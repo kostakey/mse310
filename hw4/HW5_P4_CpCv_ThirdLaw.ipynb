{
  "nbformat": 4,
  "nbformat_minor": 5,
  "metadata": {},
  "cells": [
    {
      "id": "c6d6c562",
      "cell_type": "markdown",
      "source": "# HW5 — Problem 4: $C_p - C_v$ for a solid and Third-Law implications\n\nWe evaluate $C_p - C_v = V T \\alpha^2 / \\beta_T$ for a typical crystalline solid, then\ncomment on why it is small at ambient conditions and vanishes as $T\\to 0$ (Third Law consistency).\n\nExample values at 300 K:\n- $V = 7.1\\times 10^{-6}\\ \\mathrm{m^3\\,mol^{-1}}$\n- $\\alpha = 2.5\\times 10^{-5}\\ \\mathrm{K^{-1}}$\n- $\\beta_T = 6.0\\times 10^{-12}\\ \\mathrm{Pa^{-1}}$\n",
      "metadata": {}
    },
    {
      "id": "d0c50599",
      "cell_type": "code",
      "metadata": {},
      "execution_count": null,
      "source": "\nV = 7.1e-6      # m^3/mol\nalpha = 2.5e-5  # 1/K\nbetaT = 6.0e-12 # 1/Pa\nT = 300.0       # K\n\nCp_minus_Cv = V*T*(alpha**2)/betaT  # J/mol/K\nprint(f\"Cp - Cv ≈ {Cp_minus_Cv:.3f} J/mol/K at {T:.0f} K\")\n\nnote = '''As T -> 0, lattice heat capacity C ~ T^3 (Debye), so Cp -> 0;\nthermal expansion alpha -> 0 as well; hence Cp - Cv = V T alpha^2 / betaT -> 0,\nconsistent with the Third Law (S -> 0 for an ordered crystal in equilibrium).'''\nprint(note)\n",
      "outputs": []
    }
  ]
}