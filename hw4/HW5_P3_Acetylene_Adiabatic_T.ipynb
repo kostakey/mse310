{
  "nbformat": 4,
  "nbformat_minor": 5,
  "metadata": {},
  "cells": [
    {
      "id": "09bc5853",
      "cell_type": "markdown",
      "source": "# HW5 — Problem 3: Adiabatic flame temperature of acetylene\n\nAdiabatic energy balance:\n0 = ΔH₍₂₉₈₎ + ∫ cp_products dT, with products as:\n- O₂ only: 2 CO₂ + H₂O\n- Air:     2 CO₂ + H₂O + 9.41 N₂ (ballast)\n",
      "metadata": {}
    },
    {
      "id": "3f7a0aef",
      "cell_type": "code",
      "metadata": {},
      "execution_count": null,
      "source": "\nimport numpy as np\n\n# Formation enthalpies at 298 K (J/mol)\nH_C2H2 = +226700.0\nH_CO2  = -393500.0\nH_H2O  = -241800.0\n\ndH298 = 2*H_CO2 + H_H2O - H_C2H2  # J/mol\n\n# cp polynomials (J/mol/K): a + b T + c T^{-2}\ndef int_cp_poly(a,b,c, T1,T2):\n    return a*(T2-T1) + 0.5*b*(T2**2 - T1**2) - c*(1.0/T2 - 1.0/T1)\n\ndef int_cp_CO2(T1,T2): return int_cp_poly(44.14, 9.04e-3, 8.54e5, T1,T2)\ndef int_cp_H2O(T1,T2): return int_cp_poly(30.00, 10.71e-3, -0.33e5, T1,T2)\ndef int_cp_N2 (T1,T2): return 27.87*(T2-T1) + 0.5*4.27e-3*(T2**2 - T1**2)\n\nT1 = 298.0\n\ndef balance_O2(T):\n    return dH298 + (2*int_cp_CO2(T1,T) + int_cp_H2O(T1,T))\n\ndef balance_Air(T):\n    return dH298 + (2*int_cp_CO2(T1,T) + int_cp_H2O(T1,T) + 9.41*int_cp_N2(T1,T))\n\ndef solve_bisect(f, lo, hi, tol=1e-6, maxit=200):\n    f_lo, f_hi = f(lo), f(hi)\n    if f_lo*f_hi > 0:\n        raise RuntimeError(\"Bisection bracket does not straddle a root\")\n    for _ in range(maxit):\n        mid = 0.5*(lo+hi)\n        f_mid = f(mid)\n        if abs(f_mid) < 1e-3 or (hi-lo) < tol:\n            return mid\n        if f_lo*f_mid <= 0:\n            hi, f_hi = mid, f_mid\n        else:\n            lo, f_lo = mid, f_mid\n    return 0.5*(lo+hi)\n\nT_ad_O2  = solve_bisect(balance_O2, 500.0, 8000.0)\nT_ad_air = solve_bisect(balance_Air, 500.0, 8000.0)\n\nprint(f\"T_ad (O2)  = {T_ad_O2:.0f} K\")\nprint(f\"T_ad (air) = {T_ad_air:.0f} K\")\n",
      "outputs": []
    }
  ]
}